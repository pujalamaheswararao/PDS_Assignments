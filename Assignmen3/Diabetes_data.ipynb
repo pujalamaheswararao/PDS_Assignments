{
 "cells": [
  {
   "cell_type": "code",
   "execution_count": 2,
   "id": "232ea530",
   "metadata": {},
   "outputs": [],
   "source": [
    "import numpy as np\n",
    "import pandas as pd\n",
    "import statistics as st\n",
    "import random as rd\n",
    "import matplotlib.pyplot as plt"
   ]
  },
  {
   "cell_type": "code",
   "execution_count": 5,
   "id": "61c4e358",
   "metadata": {},
   "outputs": [],
   "source": [
    "np.random.seed(30)\n",
    "diabetes_data=pd.read_csv('E:\\\\maheshswararo pujala\\\\Assignmen3\\\\Clean_data\\\\data_clean.csv')"
   ]
  },
  {
   "cell_type": "code",
   "execution_count": 6,
   "id": "ee496c81",
   "metadata": {},
   "outputs": [],
   "source": [
    "df=pd.DataFrame(diabetes_data)\n"
   ]
  },
  {
   "cell_type": "code",
   "execution_count": 7,
   "id": "c076a9a7",
   "metadata": {},
   "outputs": [],
   "source": [
    "sample_data=diabetes_data.sample(n= 25, random_state= 40)"
   ]
  },
  {
   "cell_type": "code",
   "execution_count": 8,
   "id": "f45032e3",
   "metadata": {},
   "outputs": [
    {
     "data": {
      "text/html": [
       "<div>\n",
       "<style scoped>\n",
       "    .dataframe tbody tr th:only-of-type {\n",
       "        vertical-align: middle;\n",
       "    }\n",
       "\n",
       "    .dataframe tbody tr th {\n",
       "        vertical-align: top;\n",
       "    }\n",
       "\n",
       "    .dataframe thead th {\n",
       "        text-align: right;\n",
       "    }\n",
       "</style>\n",
       "<table border=\"1\" class=\"dataframe\">\n",
       "  <thead>\n",
       "    <tr style=\"text-align: right;\">\n",
       "      <th></th>\n",
       "      <th>Unnamed: 0</th>\n",
       "      <th>Pregnancies</th>\n",
       "      <th>Glucose</th>\n",
       "      <th>BloodPressure</th>\n",
       "      <th>SkinThickness</th>\n",
       "      <th>Insulin</th>\n",
       "      <th>BMI</th>\n",
       "      <th>DiabetesPedigreeFunction</th>\n",
       "      <th>Age</th>\n",
       "      <th>Outcome</th>\n",
       "    </tr>\n",
       "  </thead>\n",
       "  <tbody>\n",
       "    <tr>\n",
       "      <th>370</th>\n",
       "      <td>370</td>\n",
       "      <td>3</td>\n",
       "      <td>173</td>\n",
       "      <td>82</td>\n",
       "      <td>48</td>\n",
       "      <td>465</td>\n",
       "      <td>38.4</td>\n",
       "      <td>2.137</td>\n",
       "      <td>25</td>\n",
       "      <td>1</td>\n",
       "    </tr>\n",
       "    <tr>\n",
       "      <th>388</th>\n",
       "      <td>388</td>\n",
       "      <td>5</td>\n",
       "      <td>144</td>\n",
       "      <td>82</td>\n",
       "      <td>26</td>\n",
       "      <td>285</td>\n",
       "      <td>32.0</td>\n",
       "      <td>0.452</td>\n",
       "      <td>58</td>\n",
       "      <td>1</td>\n",
       "    </tr>\n",
       "    <tr>\n",
       "      <th>611</th>\n",
       "      <td>611</td>\n",
       "      <td>3</td>\n",
       "      <td>174</td>\n",
       "      <td>58</td>\n",
       "      <td>22</td>\n",
       "      <td>194</td>\n",
       "      <td>32.9</td>\n",
       "      <td>0.593</td>\n",
       "      <td>36</td>\n",
       "      <td>1</td>\n",
       "    </tr>\n",
       "    <tr>\n",
       "      <th>550</th>\n",
       "      <td>550</td>\n",
       "      <td>1</td>\n",
       "      <td>116</td>\n",
       "      <td>70</td>\n",
       "      <td>28</td>\n",
       "      <td>0</td>\n",
       "      <td>27.4</td>\n",
       "      <td>0.204</td>\n",
       "      <td>21</td>\n",
       "      <td>0</td>\n",
       "    </tr>\n",
       "    <tr>\n",
       "      <th>232</th>\n",
       "      <td>232</td>\n",
       "      <td>1</td>\n",
       "      <td>79</td>\n",
       "      <td>80</td>\n",
       "      <td>25</td>\n",
       "      <td>37</td>\n",
       "      <td>25.4</td>\n",
       "      <td>0.583</td>\n",
       "      <td>22</td>\n",
       "      <td>0</td>\n",
       "    </tr>\n",
       "  </tbody>\n",
       "</table>\n",
       "</div>"
      ],
      "text/plain": [
       "     Unnamed: 0  Pregnancies  Glucose  BloodPressure  SkinThickness  Insulin  \\\n",
       "370         370            3      173             82             48      465   \n",
       "388         388            5      144             82             26      285   \n",
       "611         611            3      174             58             22      194   \n",
       "550         550            1      116             70             28        0   \n",
       "232         232            1       79             80             25       37   \n",
       "\n",
       "      BMI  DiabetesPedigreeFunction  Age  Outcome  \n",
       "370  38.4                     2.137   25        1  \n",
       "388  32.0                     0.452   58        1  \n",
       "611  32.9                     0.593   36        1  \n",
       "550  27.4                     0.204   21        0  \n",
       "232  25.4                     0.583   22        0  "
      ]
     },
     "execution_count": 8,
     "metadata": {},
     "output_type": "execute_result"
    }
   ],
   "source": [
    "sample_data.head()"
   ]
  },
  {
   "cell_type": "code",
   "execution_count": 9,
   "id": "558ee9a7",
   "metadata": {},
   "outputs": [
    {
     "name": "stdout",
     "output_type": "stream",
     "text": [
      "121.2\n"
     ]
    }
   ],
   "source": [
    "meanofglucose=st.mean(sample_data.loc[:,\"Glucose\"])\n",
    "print(meanofglucose)"
   ]
  },
  {
   "cell_type": "code",
   "execution_count": 10,
   "id": "331c350e",
   "metadata": {},
   "outputs": [
    {
     "name": "stdout",
     "output_type": "stream",
     "text": [
      "184\n"
     ]
    }
   ],
   "source": [
    "maxofglucose=max(sample_data.loc[:,\"Glucose\"])\n",
    "print(maxofglucose)"
   ]
  },
  {
   "cell_type": "code",
   "execution_count": 11,
   "id": "e93b0c8b",
   "metadata": {},
   "outputs": [
    {
     "name": "stdout",
     "output_type": "stream",
     "text": [
      "120.89453125\n"
     ]
    }
   ],
   "source": [
    "meanofpopulation=st.mean(df.loc[:,\"Glucose\"])\n",
    "print(meanofpopulation)"
   ]
  },
  {
   "cell_type": "code",
   "execution_count": 12,
   "id": "ed651651",
   "metadata": {},
   "outputs": [
    {
     "name": "stdout",
     "output_type": "stream",
     "text": [
      "199\n"
     ]
    }
   ],
   "source": [
    "maxofpopulation=max(df.loc[:,\"Glucose\"])\n",
    "print(maxofpopulation)"
   ]
  },
  {
   "cell_type": "code",
   "execution_count": 13,
   "id": "b4d8232e",
   "metadata": {},
   "outputs": [
    {
     "data": {
      "image/png": "[encoded data removed]",
      "text/plain": [
       "<Figure size 432x288 with 1 Axes>"
      ]
     },
     "metadata": {
      "needs_background": "light"
     },
     "output_type": "display_data"
    }
   ],
   "source": [
    "plt.bar(['mean of sample', 'mean of population'],\n",
    "        [meanofglucose,meanofpopulation],color='blue')\n",
    "plt.ylabel('Glucose values')\n",
    "plt.title('Comparison of Glucose Statistics between means of Sample and Population')\n",
    "plt.show()"
   ]
  },
  {
   "cell_type": "code",
   "execution_count": 14,
   "id": "2cb1159d",
   "metadata": {},
   "outputs": [
    {
     "data": {
      "image/png": "[encoded data removed]",
      "text/plain": [
       "<Figure size 432x288 with 1 Axes>"
      ]
     },
     "metadata": {
      "needs_background": "light"
     },
     "output_type": "display_data"
    }
   ],
   "source": [
    "plt.bar(['max of sample', 'max of population'],\n",
    "        [maxofglucose,maxofpopulation],color='blue')\n",
    "plt.ylabel('Glucose values')\n",
    "plt.title('Comparison of Glucose Statistics between max of Sample and Population')\n",
    "plt.show()"
   ]
  },
  {
   "cell_type": "code",
   "execution_count": 15,
   "id": "1d0731c9",
   "metadata": {},
   "outputs": [],
   "source": [
    "sample_percentile=np.percentile(sample_data['BMI'],98)\n",
    "population_percentile=np.percentile(df['BMI'],98)"
   ]
  },
  {
   "cell_type": "code",
   "execution_count": 16,
   "id": "93b666ff",
   "metadata": {},
   "outputs": [
    {
     "name": "stdout",
     "output_type": "stream",
     "text": [
      "47.151999999999994\n",
      "47.52599999999996\n"
     ]
    }
   ],
   "source": [
    "print(sample_percentile)\n",
    "print(population_percentile)"
   ]
  },
  {
   "cell_type": "code",
   "execution_count": 17,
   "id": "7278119c",
   "metadata": {},
   "outputs": [
    {
     "data": {
      "image/png": "[encoded data removed]",
      "text/plain": [
       "<Figure size 432x288 with 1 Axes>"
      ]
     },
     "metadata": {
      "needs_background": "light"
     },
     "output_type": "display_data"
    }
   ],
   "source": [
    "plt.bar(['Sample 98th Percentile', 'Population 98th Percentile'],\n",
    "        [sample_percentile, population_percentile],color='pink')\n",
    "plt.xlabel('98th percentile')\n",
    "plt.ylabel('BMI Values')\n",
    "plt.title('Comparison of 98th Percentile BMI between Sample and Population')\n",
    "plt.show()"
   ]
  },
  {
   "cell_type": "code",
   "execution_count": 18,
   "id": "680f7a1e",
   "metadata": {},
   "outputs": [],
   "source": [
    "np.random.seed(30)"
   ]
  },
  {
   "cell_type": "code",
   "execution_count": 19,
   "id": "b0f3b9fd",
   "metadata": {},
   "outputs": [],
   "source": [
    "no_of_samples=500\n",
    "sample_size=150"
   ]
  },
  {
   "cell_type": "code",
   "execution_count": 20,
   "id": "46975ff0",
   "metadata": {},
   "outputs": [],
   "source": [
    "bootstrap_means = np.zeros(no_of_samples)\n",
    "bootstrap_stds = np.zeros(no_of_samples)\n",
    "bootstrap_percentiles = np.zeros(no_of_samples)"
   ]
  },
  {
   "cell_type": "code",
   "execution_count": 21,
   "id": "68a1f6a8",
   "metadata": {},
   "outputs": [],
   "source": [
    "for i in range(no_of_samples):\n",
    "    bootstrap_sample = np.random.choice(df['BloodPressure'], size=sample_size, replace=True)\n",
    "    bootstrap_means[i] = np.mean(bootstrap_sample)\n",
    "    bootstrap_stds[i] = np.std(bootstrap_sample)\n",
    "    bootstrap_percentiles[i] = np.percentile(bootstrap_sample,75)"
   ]
  },
  {
   "cell_type": "code",
   "execution_count": 22,
   "id": "513ec864",
   "metadata": {},
   "outputs": [],
   "source": [
    "population_mean = np.mean(df['BloodPressure'])\n",
    "population_std = np.std(df['BloodPressure'])\n",
    "population_percentile = np.percentile(df['BloodPressure'], 75)"
   ]
  },
  {
   "cell_type": "code",
   "execution_count": 23,
   "id": "b7c5f457",
   "metadata": {},
   "outputs": [
    {
     "name": "stdout",
     "output_type": "stream",
     "text": [
      "69.10546875\n",
      "19.343201628981696\n",
      "80.0\n"
     ]
    }
   ],
   "source": [
    "print(population_mean)\n",
    "print(population_std)\n",
    "print(population_percentile)"
   ]
  },
  {
   "cell_type": "code",
   "execution_count": 32,
   "id": "09d7aa1e",
   "metadata": {},
   "outputs": [
    {
     "data": {
      "text/plain": [
       "Text(0.5, 1.0, 'Bootstrap Means vs Population Mean')"
      ]
     },
     "execution_count": 32,
     "metadata": {},
     "output_type": "execute_result"
    },
    {
     "data": {
      "image/png": "[encoded data removed]",
      "text/plain": [
       "<Figure size 1296x432 with 1 Axes>"
      ]
     },
     "metadata": {
      "needs_background": "light"
     },
     "output_type": "display_data"
    }
   ],
   "source": [
    "plt.figure(figsize=(18, 6))\n",
    "plt.hist(bootstrap_means, bins=30, color='blue', alpha=0.7)\n",
    "plt.axvline(population_mean, color='red', linewidth=2)\n",
    "plt.title('Bootstrap Means vs Population Mean')"
   ]
  },
  {
   "cell_type": "code",
   "execution_count": 35,
   "id": "6351d41b",
   "metadata": {},
   "outputs": [
    {
     "data": {
      "text/plain": [
       "Text(0.5, 1.0, 'Bootstrap Standard Deviations vs Population Standard Deviation')"
      ]
     },
     "execution_count": 35,
     "metadata": {},
     "output_type": "execute_result"
    },
    {
     "data": {
      "image/png": "[encoded data removed]",
      "text/plain": [
       "<Figure size 1296x432 with 1 Axes>"
      ]
     },
     "metadata": {
      "needs_background": "light"
     },
     "output_type": "display_data"
    }
   ],
   "source": [
    "plt.figure(figsize=(18, 6))\n",
    "plt.hist(bootstrap_stds, bins=30, color='violet', alpha=0.7)\n",
    "plt.axvline(population_std, color='green', linewidth=2)\n",
    "plt.title('Bootstrap Standard Deviations vs Population Standard Deviation')"
   ]
  },
  {
   "cell_type": "code",
   "execution_count": 34,
   "id": "390fd07b",
   "metadata": {},
   "outputs": [
    {
     "data": {
      "text/plain": [
       "Text(0.5, 1.0, 'Bootstrap Standard Deviations vs Population Standard Deviation')"
      ]
     },
     "execution_count": 34,
     "metadata": {},
     "output_type": "execute_result"
    },
    {
     "data": {
      "image/png": "[encoded data removed]",
      "text/plain": [
       "<Figure size 1296x432 with 1 Axes>"
      ]
     },
     "metadata": {
      "needs_background": "light"
     },
     "output_type": "display_data"
    }
   ],
   "source": [
    "plt.figure(figsize=(18, 6))\n",
    "plt.hist(bootstrap_percentiles, bins=30, color='pink', alpha=0.7)\n",
    "\n",
    "plt.axvline(population_percentile, color='blue', linewidth=2)\n",
    "plt.title('Bootstrap Standard Deviations vs Population Standard Deviation')"
   ]
  },
  {
   "cell_type": "code",
   "execution_count": null,
   "id": "16521a83",
   "metadata": {},
   "outputs": [],
   "source": []
  },
  {
   "cell_type": "code",
   "execution_count": null,
   "id": "7027db4b",
   "metadata": {},
   "outputs": [],
   "source": []
  }
 ],
 "metadata": {
  "kernelspec": {
   "display_name": "Python 3 (ipykernel)",
   "language": "python",
   "name": "python3"
  },
  "language_info": {
   "codemirror_mode": {
    "name": "ipython",
    "version": 3
   },
   "file_extension": ".py",
   "mimetype": "text/x-python",
   "name": "python",
   "nbconvert_exporter": "python",
   "pygments_lexer": "ipython3",
   "version": "3.9.7"
  }
 },
 "nbformat": 4,
 "nbformat_minor": 5
}
